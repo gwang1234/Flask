{
 "cells": [
  {
   "cell_type": "code",
   "execution_count": 2,
   "id": "b791c6b4",
   "metadata": {},
   "outputs": [],
   "source": [
    "from flask import Flask"
   ]
  },
  {
   "cell_type": "code",
   "execution_count": 6,
   "id": "7e19f33c",
   "metadata": {},
   "outputs": [
    {
     "name": "stdout",
     "output_type": "stream",
     "text": [
      " * Serving Flask app '__main__'\n",
      " * Debug mode: off\n"
     ]
    },
    {
     "name": "stderr",
     "output_type": "stream",
     "text": [
      "WARNING: This is a development server. Do not use it in a production deployment. Use a production WSGI server instead.\n",
      " * Running on http://127.0.0.1:8080\n",
      "Press CTRL+C to quit\n",
      "127.0.0.1 - - [06/Jun/2025 17:55:55] \"GET /hello HTTP/1.1\" 200 -\n",
      "127.0.0.1 - - [06/Jun/2025 17:55:55] \"GET /favicon.ico HTTP/1.1\" 404 -\n"
     ]
    }
   ],
   "source": [
    "app = Flask(__name__)\n",
    "@app.route(\"/hello\")\n",
    "def hello():\n",
    "    return \"<h1>Hello World</h1>\"\n",
    "\n",
    "if __name__ == \"__main__\":\n",
    "    app.run(host=\"127.0.0.1\", port=8080)"
   ]
  },
  {
   "cell_type": "code",
   "execution_count": 8,
   "id": "50cad750",
   "metadata": {},
   "outputs": [
    {
     "name": "stdout",
     "output_type": "stream",
     "text": [
      "outer_function called\n",
      "Hello, Alice!\n"
     ]
    }
   ],
   "source": [
    "def outer_function(name):\n",
    "    print(\"outer_function called\")\n",
    "\n",
    "    def inner_function():\n",
    "        print(f\"Hello, {name}!\")\n",
    "\n",
    "    inner_function() \n",
    "\n",
    "outer_function(\"Alice\")"
   ]
  },
  {
   "cell_type": "code",
   "execution_count": 7,
   "id": "00f5319c",
   "metadata": {},
   "outputs": [
    {
     "name": "stdout",
     "output_type": "stream",
     "text": [
      "Hello, Alice!\n",
      "inner\n"
     ]
    }
   ],
   "source": [
    "def outer_function(name):\n",
    "    def inner_function():\n",
    "        print(f\"Hello, {name}!\")\n",
    "        return \"inner\"\n",
    "    return inner_function # 함수 자체를 리턴 \n",
    "\n",
    "of = outer_function(\"Alice\") # First-class 함수 \n",
    "print(of())"
   ]
  },
  {
   "cell_type": "code",
   "execution_count": 9,
   "id": "acb32eb3",
   "metadata": {},
   "outputs": [],
   "source": [
    "def cal_square(x):\n",
    "    return x * x"
   ]
  },
  {
   "cell_type": "code",
   "execution_count": 10,
   "id": "eb3fc0f4",
   "metadata": {},
   "outputs": [
    {
     "name": "stdout",
     "output_type": "stream",
     "text": [
      "<function cal_square at 0x0000020DE7E59AB0>\n"
     ]
    }
   ],
   "source": [
    "func1 = cal_square\n",
    "print(func1)    "
   ]
  },
  {
   "cell_type": "code",
   "execution_count": 11,
   "id": "e909452a",
   "metadata": {},
   "outputs": [
    {
     "data": {
      "text/plain": [
       "4"
      ]
     },
     "execution_count": 11,
     "metadata": {},
     "output_type": "execute_result"
    }
   ],
   "source": [
    "func1(2)"
   ]
  },
  {
   "cell_type": "code",
   "execution_count": 12,
   "id": "d506fdbe",
   "metadata": {},
   "outputs": [
    {
     "name": "stdout",
     "output_type": "stream",
     "text": [
      "[1, 4, 9, 16, 25]\n"
     ]
    }
   ],
   "source": [
    "def cal_square(x):\n",
    "    return x * x\n",
    "def list_square(function, digit_list):\n",
    "    result = list()\n",
    "    for digit in digit_list:\n",
    "        result.append(function(digit))\n",
    "    return result\n",
    "digit_list = [1, 2, 3, 4, 5]\n",
    "print(list_square(cal_square, digit_list))"
   ]
  },
  {
   "cell_type": "code",
   "execution_count": 14,
   "id": "2728d9c9",
   "metadata": {},
   "outputs": [
    {
     "data": {
      "text/plain": [
       "('[HIGH LEVEL]: ', 'Hello World')"
      ]
     },
     "execution_count": 14,
     "metadata": {},
     "output_type": "execute_result"
    }
   ],
   "source": [
    "def logger(msg):\n",
    "    message = msg\n",
    "    def msg_creator():\n",
    "        return ('[HIGH LEVEL]: ', message)\n",
    "    return msg_creator\n",
    "log1 = logger(\"Hello World\")\n",
    "log1()"
   ]
  },
  {
   "cell_type": "code",
   "execution_count": 15,
   "id": "5ab692ba",
   "metadata": {},
   "outputs": [],
   "source": [
    "def html_tag(tag):\n",
    "    def wrap_text(msg):\n",
    "        return f\"<{tag}>{msg}</{tag}>\"\n",
    "    return wrap_text"
   ]
  },
  {
   "cell_type": "code",
   "execution_count": null,
   "id": "81c9b2e5",
   "metadata": {},
   "outputs": [
    {
     "data": {
      "text/plain": [
       "'- Hello World'"
      ]
     },
     "execution_count": 17,
     "metadata": {},
     "output_type": "execute_result"
    }
   ],
   "source": [
    "def list_creator(tag):\n",
    "    def test_wrapper(msg):\n",
    "        return f\"{tag} {msg}\"\n",
    "    return test_wrapper\n",
    "data_list_minus = list_creator(\"-\")\n",
    "data_list_minus(\"Hello World\")"
   ]
  },
  {
   "cell_type": "code",
   "execution_count": null,
   "id": "c05f6313",
   "metadata": {},
   "outputs": [],
   "source": [
    "# first-class 이용해서 크롤링 연습\n",
    "# https://davelee-fun.github.io/blog/crawl_html_css.html"
   ]
  },
  {
   "cell_type": "code",
   "execution_count": null,
   "id": "3ba6737f",
   "metadata": {},
   "outputs": [
    {
     "name": "stdout",
     "output_type": "stream",
     "text": [
      "time 2025-06-06 20:27:20.274900\n",
      "Hello, world!\n",
      "time 2025-06-06 20:27:20.275903\n"
     ]
    }
   ],
   "source": [
    "# 데코레이터 예제\n",
    "import datetime\n",
    "\n",
    "def datetime_decorator(func):\n",
    "    def wrapper():\n",
    "        print('time ' + str(datetime.datetime.now()))\n",
    "        func()\n",
    "        print('time ' + str(datetime.datetime.now()))\n",
    "    return wrapper\n",
    "\n",
    "@datetime_decorator\n",
    "def hello():\n",
    "    print('Hello, world!')\n",
    "\n",
    "hello()"
   ]
  },
  {
   "cell_type": "code",
   "execution_count": null,
   "id": "66b6a9d1",
   "metadata": {},
   "outputs": [
    {
     "name": "stdout",
     "output_type": "stream",
     "text": [
      "1 + 2 = 3\n"
     ]
    }
   ],
   "source": [
    "# 데코레이터 (인자)\n",
    "def outer_function(func):\n",
    "    def inner_function(digit1, digit2):\n",
    "        func(digit1, digit2)\n",
    "    return inner_function\n",
    "\n",
    "@outer_function\n",
    "def add(digit1, digit2):\n",
    "    print(f\"{digit1} + {digit2} = {digit1 + digit2}\")\n",
    "\n",
    "add(1, 2)"
   ]
  },
  {
   "cell_type": "code",
   "execution_count": null,
   "id": "3d4e0c97",
   "metadata": {},
   "outputs": [
    {
     "name": "stdout",
     "output_type": "stream",
     "text": [
      "decorator1 called\n",
      "decorator2 called\n",
      "Hello, world!\n"
     ]
    }
   ],
   "source": [
    "# 여러개 데코레이터 \n",
    "def decorator1(function):\n",
    "    def wrapper():\n",
    "        print(\"decorator1 called\")\n",
    "        function()\n",
    "    return wrapper\n",
    "\n",
    "def decorator2(function):\n",
    "    def wrapper():\n",
    "        print(\"decorator2 called\")\n",
    "        function()\n",
    "    return wrapper\n",
    "\n",
    "@decorator1\n",
    "@decorator2\n",
    "def hello():\n",
    "    print(\"Hello, world!\")\n",
    "\n",
    "hello()"
   ]
  },
  {
   "cell_type": "code",
   "execution_count": 6,
   "id": "a30a446a",
   "metadata": {},
   "outputs": [
    {
     "name": "stdout",
     "output_type": "stream",
     "text": [
      "<b>Hello, world!</b>\n"
     ]
    }
   ],
   "source": [
    "def mark_bold(function):\n",
    "    def wrapper():\n",
    "        return f\"<b>{function()}</b>\"\n",
    "    return wrapper\n",
    "\n",
    "@mark_bold\n",
    "def hello():\n",
    "    return \"Hello, world!\"\n",
    "\n",
    "print(hello())"
   ]
  },
  {
   "cell_type": "code",
   "execution_count": null,
   "id": "066540e5",
   "metadata": {},
   "outputs": [
    {
     "name": "stdout",
     "output_type": "stream",
     "text": [
      "<h1>Lee Dave!</h1>\n"
     ]
    }
   ],
   "source": [
    "# self가 있는 경우 데코레이터도 self를 넣어준다 \n",
    "def h1_tag(function):\n",
    "    def wrapper(self, *args, **kwargs):\n",
    "        return f\"<h1>{function(self, *args, **kwargs)}</h1>\"\n",
    "    return wrapper\n",
    "\n",
    "class Person:\n",
    "    def __init__(self, first_name, last_name):\n",
    "        self.first_name = first_name\n",
    "        self.last_name = last_name\n",
    "\n",
    "    @h1_tag\n",
    "    def greet(self):\n",
    "        return f\"{self.first_name} {self.last_name}!\"\n",
    "    \n",
    "daveled = Person(\"Lee\", \"Dave\")\n",
    "print(daveled.greet())"
   ]
  },
  {
   "cell_type": "code",
   "execution_count": 9,
   "id": "a98296a5",
   "metadata": {},
   "outputs": [
    {
     "name": "stdout",
     "output_type": "stream",
     "text": [
      "Decorator1: 10\n",
      "hello\n"
     ]
    }
   ],
   "source": [
    "# 파라미터가 있는 데코레이터\n",
    "def decorator1(num):\n",
    "    def outer_wrapper(function):\n",
    "        def inner_wrapper(*args, **kwargs):\n",
    "            print(f\"Decorator1: {num}\")\n",
    "            return function(*args, **kwargs)\n",
    "        return inner_wrapper\n",
    "    return outer_wrapper\n",
    "\n",
    "@decorator1(10)\n",
    "def print_hello():\n",
    "    print(\"hello\")\n",
    "\n",
    "print_hello()"
   ]
  }
 ],
 "metadata": {
  "kernelspec": {
   "display_name": "Python 3",
   "language": "python",
   "name": "python3"
  },
  "language_info": {
   "codemirror_mode": {
    "name": "ipython",
    "version": 3
   },
   "file_extension": ".py",
   "mimetype": "text/x-python",
   "name": "python",
   "nbconvert_exporter": "python",
   "pygments_lexer": "ipython3",
   "version": "3.10.0"
  }
 },
 "nbformat": 4,
 "nbformat_minor": 5
}
